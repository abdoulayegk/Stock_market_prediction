{
 "cells": [
  {
   "cell_type": "markdown",
   "metadata": {
    "colab_type": "text",
    "id": "4ezYIyWNDWfi"
   },
   "source": [
    "<h1> Problem Statement: Stock Market Analysis and Prediction\n",
    "\n",
    "Explanation: Our aim is to create software that analyses previous stock data of certain companies,\n",
    "with help of certain parameters that affect stock value. We are going to implement these values in data mining algorithms.\n",
    "This will also help us to determine the values that particular stock will have in near future.\n",
    "We will determine the Month’s High and Low with help of data mining algorithms.\n",
    "In this project we are going to take a five years of stock data for our analysis and prediction"
   ]
  },
  {
   "cell_type": "code",
   "execution_count": 1,
   "metadata": {
    "colab": {},
    "colab_type": "code",
    "id": "wcQ9qRWmBk-t"
   },
   "outputs": [],
   "source": [
    "#Install the dependencies\n",
    "import quandl\n",
    "import numpy as np \n",
    "from sklearn.linear_model import LinearRegression\n",
    "from sklearn.svm import SVR\n",
    "from sklearn.model_selection import train_test_split"
   ]
  },
  {
   "cell_type": "code",
   "execution_count": 2,
   "metadata": {
    "colab": {},
    "colab_type": "code",
    "id": "3aEKEoGBIx4X"
   },
   "outputs": [
    {
     "name": "stdout",
     "output_type": "stream",
     "text": [
      "             Open   High   Low  Close     Volume  Ex-Dividend  Split Ratio  \\\n",
      "Date                                                                         \n",
      "1986-03-13  25.50  29.25  25.5  28.00  3582600.0          0.0          1.0   \n",
      "1986-03-14  28.00  29.50  28.0  29.00  1070000.0          0.0          1.0   \n",
      "1986-03-17  29.00  29.75  29.0  29.50   462400.0          0.0          1.0   \n",
      "1986-03-18  29.50  29.75  28.5  28.75   235300.0          0.0          1.0   \n",
      "1986-03-19  28.75  29.00  28.0  28.25   166300.0          0.0          1.0   \n",
      "\n",
      "            Adj. Open  Adj. High  Adj. Low  Adj. Close   Adj. Volume  \n",
      "Date                                                                  \n",
      "1986-03-13   0.058941   0.067609  0.058941    0.064720  1.031789e+09  \n",
      "1986-03-14   0.064720   0.068187  0.064720    0.067031  3.081600e+08  \n",
      "1986-03-17   0.067031   0.068765  0.067031    0.068187  1.331712e+08  \n",
      "1986-03-18   0.068187   0.068765  0.065876    0.066454  6.776640e+07  \n",
      "1986-03-19   0.066454   0.067031  0.064720    0.065298  4.789440e+07  \n"
     ]
    }
   ],
   "source": [
    "# Get the stock data\n",
    "df = quandl.get(\"WIKI/MSFT\")\n",
    "# Take a look at the data\n",
    "print(df.head())"
   ]
  },
  {
   "cell_type": "code",
   "execution_count": 3,
   "metadata": {
    "colab": {},
    "colab_type": "code",
    "id": "oy54sl0F11VG"
   },
   "outputs": [
    {
     "name": "stdout",
     "output_type": "stream",
     "text": [
      "            Adj. Close\n",
      "Date                  \n",
      "1986-03-13    0.064720\n",
      "1986-03-14    0.067031\n",
      "1986-03-17    0.068187\n",
      "1986-03-18    0.066454\n",
      "1986-03-19    0.065298\n"
     ]
    }
   ],
   "source": [
    "# Get the Adjusted Close Price \n",
    "df = df[['Adj. Close']] \n",
    "# Take a look at the new data \n",
    "print(df.head())"
   ]
  },
  {
   "cell_type": "code",
   "execution_count": 4,
   "metadata": {
    "colab": {},
    "colab_type": "code",
    "id": "Oa5UOBcV2dUR"
   },
   "outputs": [
    {
     "name": "stdout",
     "output_type": "stream",
     "text": [
      "            Adj. Close  Prediction\n",
      "Date                              \n",
      "2018-03-21       92.48         NaN\n",
      "2018-03-22       89.79         NaN\n",
      "2018-03-23       87.18         NaN\n",
      "2018-03-26       93.78         NaN\n",
      "2018-03-27       89.47         NaN\n"
     ]
    }
   ],
   "source": [
    "# A variable for predicting 'n' days out into the future\n",
    "forecast_out = 30 #'n=30' days\n",
    "#Create another column (the target ) shifted 'n' units up\n",
    "df['Prediction'] = df[['Adj. Close']].shift(-forecast_out)\n",
    "#print the new data set\n",
    "print(df.tail())"
   ]
  },
  {
   "cell_type": "code",
   "execution_count": 5,
   "metadata": {
    "colab": {},
    "colab_type": "code",
    "id": "csNJgya02huj"
   },
   "outputs": [
    {
     "name": "stdout",
     "output_type": "stream",
     "text": [
      "[[6.47199796e-02]\n",
      " [6.70314075e-02]\n",
      " [6.81871214e-02]\n",
      " ...\n",
      " [8.48900000e+01]\n",
      " [8.81000000e+01]\n",
      " [8.91300000e+01]]\n"
     ]
    }
   ],
   "source": [
    "### Create the independent data set (X)  #######\n",
    "# Convert the dataframe to a numpy array\n",
    "X = np.array(df.drop(['Prediction'],1))\n",
    "\n",
    "#Remove the last '30' rows\n",
    "X = X[:-forecast_out]\n",
    "print(X)"
   ]
  },
  {
   "cell_type": "code",
   "execution_count": 6,
   "metadata": {
    "colab": {},
    "colab_type": "code",
    "id": "IT8wy8b72lVb"
   },
   "outputs": [
    {
     "name": "stdout",
     "output_type": "stream",
     "text": [
      "[7.80106897e-02 7.85885467e-02 7.62771188e-02 ... 8.71800000e+01\n",
      " 9.37800000e+01 8.94700000e+01]\n"
     ]
    }
   ],
   "source": [
    "### Create the dependent data set (y)  #####\n",
    "# Convert the dataframe to a numpy array \n",
    "y = np.array(df['Prediction'])\n",
    "# Get all of the y values except the last '30' rows\n",
    "y = y[:-forecast_out]\n",
    "print(y)"
   ]
  },
  {
   "cell_type": "code",
   "execution_count": 7,
   "metadata": {
    "colab": {},
    "colab_type": "code",
    "id": "9evZELEB2oqB"
   },
   "outputs": [],
   "source": [
    "# Split the data into 80% training and 20% testing\n",
    "x_train, x_test, y_train, y_test = train_test_split(X, y, test_size=0.2)"
   ]
  },
  {
   "cell_type": "code",
   "execution_count": 8,
   "metadata": {
    "colab": {},
    "colab_type": "code",
    "id": "09V1KE-F20TD"
   },
   "outputs": [
    {
     "data": {
      "text/plain": [
       "SVR(C=1000.0, cache_size=200, coef0=0.0, degree=3, epsilon=0.1, gamma=0.1,\n",
       "    kernel='rbf', max_iter=-1, shrinking=True, tol=0.001, verbose=False)"
      ]
     },
     "execution_count": 8,
     "metadata": {},
     "output_type": "execute_result"
    }
   ],
   "source": [
    "# Create and train the Support Vector Machine (Regressor) \n",
    "svr_rbf = SVR(kernel='rbf', C=1e3, gamma=0.1) \n",
    "svr_rbf.fit(x_train, y_train)"
   ]
  },
  {
   "cell_type": "code",
   "execution_count": 9,
   "metadata": {
    "colab": {},
    "colab_type": "code",
    "id": "QiVr5WdZ23fV"
   },
   "outputs": [
    {
     "name": "stdout",
     "output_type": "stream",
     "text": [
      "svm confidence:  0.9877940261912018\n"
     ]
    }
   ],
   "source": [
    "# Testing Model: Score returns the coefficient of determination R^2 of the prediction. \n",
    "# The best possible score is 1.0\n",
    "svm_confidence = svr_rbf.score(x_test, y_test)\n",
    "print(\"svm confidence: \", svm_confidence)"
   ]
  },
  {
   "cell_type": "code",
   "execution_count": 10,
   "metadata": {
    "colab": {},
    "colab_type": "code",
    "id": "vLfyruet3MZh"
   },
   "outputs": [
    {
     "data": {
      "text/plain": [
       "LinearRegression(copy_X=True, fit_intercept=True, n_jobs=None, normalize=False)"
      ]
     },
     "execution_count": 10,
     "metadata": {},
     "output_type": "execute_result"
    }
   ],
   "source": [
    "lr = LinearRegression()\n",
    "# Train the model\n",
    "lr.fit(x_train, y_train)"
   ]
  },
  {
   "cell_type": "code",
   "execution_count": 11,
   "metadata": {
    "colab": {},
    "colab_type": "code",
    "id": "uUrKvfcd3XDv"
   },
   "outputs": [
    {
     "name": "stdout",
     "output_type": "stream",
     "text": [
      "lr confidence:  0.9860994783583743\n"
     ]
    }
   ],
   "source": [
    "# Testing Model: Score returns the coefficient of determination R^2 of the prediction. \n",
    "# The best possible score is 1.0\n",
    "lr_confidence = lr.score(x_test, y_test)\n",
    "print(\"lr confidence: \", lr_confidence)"
   ]
  },
  {
   "cell_type": "code",
   "execution_count": 12,
   "metadata": {
    "colab": {},
    "colab_type": "code",
    "id": "nlPmQ4QZ3b7W"
   },
   "outputs": [
    {
     "name": "stdout",
     "output_type": "stream",
     "text": [
      "[[89.83]\n",
      " [90.81]\n",
      " [92.66]\n",
      " [92.  ]\n",
      " [92.72]\n",
      " [91.49]\n",
      " [91.74]\n",
      " [94.06]\n",
      " [95.42]\n",
      " [94.2 ]\n",
      " [93.77]\n",
      " [92.85]\n",
      " [93.05]\n",
      " [93.64]\n",
      " [93.32]\n",
      " [93.86]\n",
      " [94.43]\n",
      " [96.54]\n",
      " [96.77]\n",
      " [94.41]\n",
      " [93.85]\n",
      " [94.18]\n",
      " [94.6 ]\n",
      " [92.89]\n",
      " [93.13]\n",
      " [92.48]\n",
      " [89.79]\n",
      " [87.18]\n",
      " [93.78]\n",
      " [89.47]]\n"
     ]
    }
   ],
   "source": [
    "# Set x_forecast equal to the last 30 rows of the original data set from Adj. Close column\n",
    "x_forecast = np.array(df.drop(['Prediction'],1))[-forecast_out:]\n",
    "print(x_forecast)"
   ]
  },
  {
   "cell_type": "code",
   "execution_count": 13,
   "metadata": {
    "colab": {},
    "colab_type": "code",
    "id": "bbGpn9DS3hXK"
   },
   "outputs": [
    {
     "name": "stdout",
     "output_type": "stream",
     "text": [
      "[92.03460977 93.04002633 94.93800656 94.26088929 94.99956267 93.7376623\n",
      " 93.99414612 96.37431592 97.76958787 96.51794686 96.07679469 95.13293426\n",
      " 95.33812131 95.94342311 95.61512383 96.16912887 96.75391197 98.91863536\n",
      " 99.15460047 96.73339326 96.15886952 96.49742815 96.92832096 95.17397167\n",
      " 95.42019613 94.75333821 91.99357236 89.31588134 96.08705405 91.66527308]\n",
      "[89.84202534 91.21869726 94.42226826 93.90527353 94.44076167 92.96480042\n",
      " 93.4869727  94.68663376 92.90338295 94.70006793 94.6281859  94.47175036\n",
      " 94.50412763 94.59929856 94.54080639 94.6483585  94.67447481 85.30052234\n",
      " 83.00426071 94.67987413 94.64615216 94.6991728  94.59634363 94.47934432\n",
      " 94.51477811 94.34507756 89.85457648 93.96727911 94.63044682 90.17536334]\n"
     ]
    }
   ],
   "source": [
    "# Print linear regression model predictions for the next '30' days\n",
    "lr_prediction = lr.predict(x_forecast)\n",
    "print(lr_prediction)\n",
    "# Print support vector regressor model predictions for the next '30' days\n",
    "svm_prediction = svr_rbf.predict(x_forecast)\n",
    "print(svm_prediction)"
   ]
  },
  {
   "cell_type": "code",
   "execution_count": null,
   "metadata": {
    "colab": {},
    "colab_type": "code",
    "id": "KhUQ2Css3nR7"
   },
   "outputs": [],
   "source": []
  },
  {
   "cell_type": "markdown",
   "metadata": {
    "colab_type": "text",
    "id": "DUFbVagtGC96"
   },
   "source": [
    "<h1> Linear regression model"
   ]
  },
  {
   "cell_type": "code",
   "execution_count": 14,
   "metadata": {
    "colab": {},
    "colab_type": "code",
    "id": "yieVKnXkGCPt"
   },
   "outputs": [
    {
     "data": {
      "text/plain": [
       "LinearRegression(copy_X=True, fit_intercept=True, n_jobs=None, normalize=False)"
      ]
     },
     "execution_count": 14,
     "metadata": {},
     "output_type": "execute_result"
    }
   ],
   "source": [
    "# Create and train the Linear Regression  Model\n",
    "lr = LinearRegression()\n",
    "# Train the model\n",
    "lr.fit(x_train, y_train)"
   ]
  },
  {
   "cell_type": "code",
   "execution_count": 15,
   "metadata": {
    "colab": {},
    "colab_type": "code",
    "id": "qze7BuZ0GLdA"
   },
   "outputs": [
    {
     "name": "stdout",
     "output_type": "stream",
     "text": [
      "lr confidence:  0.9860994783583743\n"
     ]
    }
   ],
   "source": [
    "# Testing Model: Score returns the coefficient of determination R^2 of the prediction. \n",
    "# The best possible score is 1.0\n",
    "lr_confidence = lr.score(x_test, y_test)\n",
    "print(\"lr confidence: \", lr_confidence)"
   ]
  },
  {
   "cell_type": "code",
   "execution_count": 16,
   "metadata": {
    "colab": {},
    "colab_type": "code",
    "id": "AosRn54vGP2k"
   },
   "outputs": [
    {
     "name": "stdout",
     "output_type": "stream",
     "text": [
      "[[89.83]\n",
      " [90.81]\n",
      " [92.66]\n",
      " [92.  ]\n",
      " [92.72]\n",
      " [91.49]\n",
      " [91.74]\n",
      " [94.06]\n",
      " [95.42]\n",
      " [94.2 ]\n",
      " [93.77]\n",
      " [92.85]\n",
      " [93.05]\n",
      " [93.64]\n",
      " [93.32]\n",
      " [93.86]\n",
      " [94.43]\n",
      " [96.54]\n",
      " [96.77]\n",
      " [94.41]\n",
      " [93.85]\n",
      " [94.18]\n",
      " [94.6 ]\n",
      " [92.89]\n",
      " [93.13]\n",
      " [92.48]\n",
      " [89.79]\n",
      " [87.18]\n",
      " [93.78]\n",
      " [89.47]]\n"
     ]
    }
   ],
   "source": [
    "# Set x_forecast equal to the last 30 rows of the original data set from Adj. Close column\n",
    "x_forecast = np.array(df.drop(['Prediction'],1))[-forecast_out:]\n",
    "print(x_forecast)"
   ]
  },
  {
   "cell_type": "code",
   "execution_count": 17,
   "metadata": {
    "colab": {},
    "colab_type": "code",
    "id": "BWLbPV51GXGS"
   },
   "outputs": [
    {
     "name": "stdout",
     "output_type": "stream",
     "text": [
      "[92.03460977 93.04002633 94.93800656 94.26088929 94.99956267 93.7376623\n",
      " 93.99414612 96.37431592 97.76958787 96.51794686 96.07679469 95.13293426\n",
      " 95.33812131 95.94342311 95.61512383 96.16912887 96.75391197 98.91863536\n",
      " 99.15460047 96.73339326 96.15886952 96.49742815 96.92832096 95.17397167\n",
      " 95.42019613 94.75333821 91.99357236 89.31588134 96.08705405 91.66527308]\n",
      "[89.84202534 91.21869726 94.42226826 93.90527353 94.44076167 92.96480042\n",
      " 93.4869727  94.68663376 92.90338295 94.70006793 94.6281859  94.47175036\n",
      " 94.50412763 94.59929856 94.54080639 94.6483585  94.67447481 85.30052234\n",
      " 83.00426071 94.67987413 94.64615216 94.6991728  94.59634363 94.47934432\n",
      " 94.51477811 94.34507756 89.85457648 93.96727911 94.63044682 90.17536334]\n"
     ]
    }
   ],
   "source": [
    "# Print linear regression model predictions for the next '30' days\n",
    "lr_prediction = lr.predict(x_forecast)\n",
    "print(lr_prediction)\n",
    "# Print support vector regressor model predictions for the next '30' days\n",
    "svm_prediction = svr_rbf.predict(x_forecast)\n",
    "print(svm_prediction[:30])"
   ]
  },
  {
   "cell_type": "code",
   "execution_count": null,
   "metadata": {
    "colab": {},
    "colab_type": "code",
    "id": "dbUUP1UPGdYL"
   },
   "outputs": [],
   "source": []
  }
 ],
 "metadata": {
  "colab": {
   "name": "stock MFST.ipynb",
   "private_outputs": true,
   "provenance": []
  },
  "kernelspec": {
   "display_name": "Python 3",
   "language": "python",
   "name": "python3"
  },
  "language_info": {
   "codemirror_mode": {
    "name": "ipython",
    "version": 3
   },
   "file_extension": ".py",
   "mimetype": "text/x-python",
   "name": "python",
   "nbconvert_exporter": "python",
   "pygments_lexer": "ipython3",
   "version": "3.7.6"
  }
 },
 "nbformat": 4,
 "nbformat_minor": 1
}
